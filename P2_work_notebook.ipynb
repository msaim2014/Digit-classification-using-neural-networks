{
 "cells": [
  {
   "cell_type": "markdown",
   "metadata": {},
   "source": [
    "# Digit classification using neural networks"
   ]
  },
  {
   "cell_type": "markdown",
   "metadata": {},
   "source": [
    "# Setup"
   ]
  },
  {
   "cell_type": "markdown",
   "metadata": {},
   "source": [
    "Files below have been downloaded from https://github.com/MichalDanielDobrzanski/DeepLearningPython35 \n",
    "and saved in the same folder as this notebook."
   ]
  },
  {
   "cell_type": "code",
   "execution_count": 2,
   "metadata": {
    "collapsed": true
   },
   "outputs": [],
   "source": [
    "# From Geron \n",
    "\n",
    "# To support both python 2 and python 3\n",
    "from __future__ import division, print_function, unicode_literals\n",
    "\n",
    "# Common imports\n",
    "import numpy as np\n",
    "import os\n",
    "\n",
    "# Standard library\n",
    "import random\n",
    "\n",
    "# to make this notebook's output stable across runs\n",
    "np.random.seed(42)\n",
    "\n",
    "# To plot pretty figures\n",
    "%matplotlib inline\n",
    "import matplotlib\n",
    "import matplotlib.pyplot as plt\n",
    "plt.rcParams['axes.labelsize'] = 14\n",
    "plt.rcParams['xtick.labelsize'] = 12\n",
    "plt.rcParams['ytick.labelsize'] = 12\n",
    "\n",
    "# Where to save the figures\n",
    "PROJECT_ROOT_DIR = \".\"\n",
    "CHAPTER_ID = \"classification\"\n",
    "\n",
    "def save_fig(fig_id, tight_layout=True):\n",
    "    path = os.path.join(PROJECT_ROOT_DIR, \"images\", CHAPTER_ID, fig_id + \".png\")\n",
    "    print(\"Saving figure\", fig_id)\n",
    "    if tight_layout:\n",
    "        plt.tight_layout()\n",
    "    plt.savefig(path, format='png', dpi=300)\n",
    "    "
   ]
  },
  {
   "cell_type": "code",
   "execution_count": 3,
   "metadata": {
    "collapsed": true
   },
   "outputs": [],
   "source": [
    "#included and changed to expand the mnist data\n",
    "import gzip\n",
    "import pickle\n",
    "\n",
    "def load_data2():\n",
    "    #changed the name of the file\n",
    "    f = gzip.open('mnist_expanded.pkl.gz', 'rb')\n",
    "    training_data, validation_data, test_data = pickle.load(f, encoding=\"latin1\")\n",
    "    f.close()\n",
    "    return (training_data, validation_data, test_data)"
   ]
  },
  {
   "cell_type": "code",
   "execution_count": 4,
   "metadata": {
    "collapsed": true
   },
   "outputs": [],
   "source": [
    "#included and changed to expand the mnist data\n",
    "import pickle\n",
    "import gzip\n",
    "import numpy as np\n",
    "\n",
    "def load_data_wrapper2():\n",
    "    #changed to load_data2\n",
    "    tr_d, va_d, te_d = load_data2()\n",
    "    training_inputs = [np.reshape(x, (784, 1)) for x in tr_d[0]]\n",
    "    training_results = [vectorized_result(y) for y in tr_d[1]]\n",
    "    training_data = zip(training_inputs, training_results)\n",
    "    validation_inputs = [np.reshape(x, (784, 1)) for x in va_d[0]]\n",
    "    validation_data = zip(validation_inputs, va_d[1])\n",
    "    test_inputs = [np.reshape(x, (784, 1)) for x in te_d[0]]\n",
    "    test_data = zip(test_inputs, te_d[1])\n",
    "    return (training_data, validation_data, test_data)"
   ]
  },
  {
   "cell_type": "code",
   "execution_count": 5,
   "metadata": {
    "collapsed": true
   },
   "outputs": [],
   "source": [
    "#included and changed to expand the mnist data\n",
    "#included so load_data_wrapper2 can run\n",
    "def vectorized_result(j):\n",
    "    e = np.zeros((10, 1))\n",
    "    e[j] = 1.0\n",
    "    return e"
   ]
  },
  {
   "cell_type": "markdown",
   "metadata": {},
   "source": [
    "# Load (and split) the MNIST dataset"
   ]
  },
  {
   "cell_type": "code",
   "execution_count": 6,
   "metadata": {},
   "outputs": [
    {
     "ename": "ModuleNotFoundError",
     "evalue": "No module named 'mnist_loader'",
     "output_type": "error",
     "traceback": [
      "\u001b[1;31m---------------------------------------------------------------------------\u001b[0m",
      "\u001b[1;31mModuleNotFoundError\u001b[0m                       Traceback (most recent call last)",
      "\u001b[1;32m<ipython-input-6-c97cd706c348>\u001b[0m in \u001b[0;36m<module>\u001b[1;34m()\u001b[0m\n\u001b[1;32m----> 1\u001b[1;33m \u001b[1;32mimport\u001b[0m \u001b[0mmnist_loader\u001b[0m\u001b[1;33m\u001b[0m\u001b[0m\n\u001b[0m\u001b[0;32m      2\u001b[0m \u001b[1;33m\u001b[0m\u001b[0m\n\u001b[0;32m      3\u001b[0m \u001b[1;31m#set different tuple variables\u001b[0m\u001b[1;33m\u001b[0m\u001b[1;33m\u001b[0m\u001b[0m\n\u001b[0;32m      4\u001b[0m \u001b[0mtraining_data\u001b[0m\u001b[1;33m,\u001b[0m \u001b[0mvalidation_data\u001b[0m\u001b[1;33m,\u001b[0m \u001b[0mtest_data\u001b[0m \u001b[1;33m=\u001b[0m \u001b[0mmnist_loader\u001b[0m\u001b[1;33m.\u001b[0m\u001b[0mload_data_wrapper\u001b[0m\u001b[1;33m(\u001b[0m\u001b[1;33m)\u001b[0m\u001b[1;33m\u001b[0m\u001b[0m\n\u001b[0;32m      5\u001b[0m \u001b[1;33m\u001b[0m\u001b[0m\n",
      "\u001b[1;31mModuleNotFoundError\u001b[0m: No module named 'mnist_loader'"
     ]
    }
   ],
   "source": [
    "import mnist_loader\n",
    "\n",
    "#set different tuple variables\n",
    "training_data, validation_data, test_data = mnist_loader.load_data_wrapper()\n",
    "\n",
    "#set different \n",
    "training, validation, test = mnist_loader.load_data()\n",
    "\n",
    "#seperates the data and labels\n",
    "X_train, y_train = training[0], training[1]\n",
    "X_test, y_test = test[0], test[1]\n",
    "\n",
    "#casts to a list\n",
    "training_data = list(training_data)\n",
    "test_data= list(test_data)\n",
    "validation_data = list(validation_data)"
   ]
  },
  {
   "cell_type": "code",
   "execution_count": 6,
   "metadata": {},
   "outputs": [
    {
     "name": "stdout",
     "output_type": "stream",
     "text": [
      "50000\n"
     ]
    }
   ],
   "source": [
    "print(len(training_data))"
   ]
  },
  {
   "cell_type": "code",
   "execution_count": 7,
   "metadata": {},
   "outputs": [
    {
     "name": "stdout",
     "output_type": "stream",
     "text": [
      "10000\n"
     ]
    }
   ],
   "source": [
    "print(len(validation_data))"
   ]
  },
  {
   "cell_type": "code",
   "execution_count": 8,
   "metadata": {},
   "outputs": [
    {
     "name": "stdout",
     "output_type": "stream",
     "text": [
      "10000\n"
     ]
    }
   ],
   "source": [
    "print(len(test_data))"
   ]
  },
  {
   "cell_type": "markdown",
   "metadata": {},
   "source": [
    "# Visualize"
   ]
  },
  {
   "cell_type": "code",
   "execution_count": 9,
   "metadata": {},
   "outputs": [
    {
     "data": {
      "image/png": "[encoded data removed]",
      "text/plain": [
       "<matplotlib.figure.Figure at 0x1f487450ba8>"
      ]
     },
     "metadata": {},
     "output_type": "display_data"
    }
   ],
   "source": [
    "#select and display some digit from the dataset\n",
    "import matplotlib\n",
    "import matplotlib.pyplot as plt\n",
    "\n",
    "#taking an images feature vector and reshaping it to a 28*28 pixel image 7201\n",
    "some_digit_index = 7201\n",
    "some_digit = training[0][some_digit_index]\n",
    "some_digit_image = some_digit.reshape(28,28)\n",
    "plt.imshow(some_digit_image, cmap = matplotlib.cm.binary, interpolation=\"nearest\")\n",
    "plt.show()"
   ]
  },
  {
   "cell_type": "code",
   "execution_count": 10,
   "metadata": {},
   "outputs": [
    {
     "data": {
      "text/plain": [
       "(50000, 784)"
      ]
     },
     "execution_count": 10,
     "metadata": {},
     "output_type": "execute_result"
    }
   ],
   "source": [
    "X_train.shape"
   ]
  },
  {
   "cell_type": "code",
   "execution_count": 11,
   "metadata": {},
   "outputs": [
    {
     "data": {
      "text/plain": [
       "(50000,)"
      ]
     },
     "execution_count": 11,
     "metadata": {},
     "output_type": "execute_result"
    }
   ],
   "source": [
    "y_train.shape"
   ]
  },
  {
   "cell_type": "code",
   "execution_count": 12,
   "metadata": {},
   "outputs": [
    {
     "data": {
      "image/png": "[encoded data removed]",
      "text/plain": [
       "<matplotlib.figure.Figure at 0x1f4864b2630>"
      ]
     },
     "metadata": {},
     "output_type": "display_data"
    }
   ],
   "source": [
    "import matplotlib.pyplot as plt\n",
    "\n",
    "#plots a graph of frequency for each number in the dataset\n",
    "plt.hist(training[1])\n",
    "plt.title(\"Frequency of numbers\")\n",
    "plt.xlabel(\"Number\")\n",
    "plt.ylabel(\"Frequency\")\n",
    "plt.show()"
   ]
  },
  {
   "cell_type": "markdown",
   "metadata": {},
   "source": [
    "# Set up a first network with three layers "
   ]
  },
  {
   "cell_type": "markdown",
   "metadata": {},
   "source": [
    "Input layer: 784 neurons<br>\n",
    "Hidden layer: 30 neurons<br>\n",
    "Output layer: 10 neurons"
   ]
  },
  {
   "cell_type": "code",
   "execution_count": 13,
   "metadata": {
    "collapsed": true
   },
   "outputs": [],
   "source": [
    "import network\n",
    "\n",
    "#creating a network object (biases and weights are randomly initialized)\n",
    "net1 = network.Network([784, 30, 10])"
   ]
  },
  {
   "cell_type": "markdown",
   "metadata": {},
   "source": [
    "# Training the network using SGD  "
   ]
  },
  {
   "cell_type": "markdown",
   "metadata": {},
   "source": [
    "30 epochs, mini-batch size = 10, and eta = 3.0"
   ]
  },
  {
   "cell_type": "code",
   "execution_count": 14,
   "metadata": {},
   "outputs": [
    {
     "name": "stdout",
     "output_type": "stream",
     "text": [
      "Epoch 0 : 9061 / 10000\n",
      "Epoch 1 : 9225 / 10000\n",
      "Epoch 2 : 9332 / 10000\n",
      "Epoch 3 : 9329 / 10000\n",
      "Epoch 4 : 9293 / 10000\n",
      "Epoch 5 : 9396 / 10000\n",
      "Epoch 6 : 9376 / 10000\n",
      "Epoch 7 : 9408 / 10000\n",
      "Epoch 8 : 9402 / 10000\n",
      "Epoch 9 : 9425 / 10000\n",
      "Epoch 10 : 9413 / 10000\n",
      "Epoch 11 : 9459 / 10000\n",
      "Epoch 12 : 9437 / 10000\n",
      "Epoch 13 : 9409 / 10000\n",
      "Epoch 14 : 9451 / 10000\n",
      "Epoch 15 : 9442 / 10000\n",
      "Epoch 16 : 9451 / 10000\n",
      "Epoch 17 : 9449 / 10000\n",
      "Epoch 18 : 9417 / 10000\n",
      "Epoch 19 : 9456 / 10000\n",
      "Epoch 20 : 9449 / 10000\n",
      "Epoch 21 : 9459 / 10000\n",
      "Epoch 22 : 9430 / 10000\n",
      "Epoch 23 : 9438 / 10000\n",
      "Epoch 24 : 9454 / 10000\n",
      "Epoch 25 : 9452 / 10000\n",
      "Epoch 26 : 9451 / 10000\n",
      "Epoch 27 : 9461 / 10000\n",
      "Epoch 28 : 9455 / 10000\n",
      "Epoch 29 : 9439 / 10000\n"
     ]
    }
   ],
   "source": [
    "#number of epochs to train for\n",
    "epochs = 30\n",
    "\n",
    "#size of min_batch used when sampling\n",
    "mini_batch_size = 10\n",
    "\n",
    "#learning rate\n",
    "eta = 3.0\n",
    "\n",
    "net1.SGD(training_data, epochs, mini_batch_size, eta, test_data=test_data)\n",
    "\n",
    "#OUTPUTS: The number of test images correctly recognized at each epoch of training\n",
    "#PEAK: 94\n",
    "#EPOCH29: 9439"
   ]
  },
  {
   "cell_type": "markdown",
   "metadata": {},
   "source": [
    "# Seting up a second network with three layers "
   ]
  },
  {
   "cell_type": "markdown",
   "metadata": {},
   "source": [
    "Input layer: 784 neurons<br>\n",
    "Hidden layer: 100 neurons<br>\n",
    "Output layer: 10 neurons"
   ]
  },
  {
   "cell_type": "code",
   "execution_count": 15,
   "metadata": {
    "collapsed": true
   },
   "outputs": [],
   "source": [
    "import network\n",
    "\n",
    "#creating a network object (biases and weights are randomly initialized)\n",
    "net2 = network.Network([784, 100, 10])"
   ]
  },
  {
   "cell_type": "markdown",
   "metadata": {},
   "source": [
    "# Training the network using SGD  "
   ]
  },
  {
   "cell_type": "markdown",
   "metadata": {},
   "source": [
    "30 epochs, mini-batch size = 10, and eta = 3.0"
   ]
  },
  {
   "cell_type": "code",
   "execution_count": 16,
   "metadata": {},
   "outputs": [
    {
     "name": "stdout",
     "output_type": "stream",
     "text": [
      "Epoch 0 : 7493 / 10000\n",
      "Epoch 1 : 8333 / 10000\n",
      "Epoch 2 : 8407 / 10000\n",
      "Epoch 3 : 8522 / 10000\n",
      "Epoch 4 : 8553 / 10000\n",
      "Epoch 5 : 8568 / 10000\n",
      "Epoch 6 : 8591 / 10000\n",
      "Epoch 7 : 8582 / 10000\n",
      "Epoch 8 : 8620 / 10000\n",
      "Epoch 9 : 8616 / 10000\n",
      "Epoch 10 : 8597 / 10000\n",
      "Epoch 11 : 8643 / 10000\n",
      "Epoch 12 : 8648 / 10000\n",
      "Epoch 13 : 8668 / 10000\n",
      "Epoch 14 : 8657 / 10000\n",
      "Epoch 15 : 8665 / 10000\n",
      "Epoch 16 : 8647 / 10000\n",
      "Epoch 17 : 8659 / 10000\n",
      "Epoch 18 : 8659 / 10000\n",
      "Epoch 19 : 8666 / 10000\n",
      "Epoch 20 : 8674 / 10000\n",
      "Epoch 21 : 8666 / 10000\n",
      "Epoch 22 : 8664 / 10000\n",
      "Epoch 23 : 8678 / 10000\n",
      "Epoch 24 : 8684 / 10000\n",
      "Epoch 25 : 8680 / 10000\n",
      "Epoch 26 : 8676 / 10000\n",
      "Epoch 27 : 8675 / 10000\n",
      "Epoch 28 : 8692 / 10000\n",
      "Epoch 29 : 8685 / 10000\n"
     ]
    }
   ],
   "source": [
    "epochs = 30\n",
    "mini_batch_size = 10\n",
    "eta = 3.0\n",
    "net2.SGD(training_data, epochs, mini_batch_size, eta, test_data=test_data)\n",
    "#PEAK: 86\n",
    "#EPOCH29: 8685"
   ]
  },
  {
   "cell_type": "markdown",
   "metadata": {},
   "source": [
    "# Seting up a third network with only two layers "
   ]
  },
  {
   "cell_type": "markdown",
   "metadata": {},
   "source": [
    "Input layer: 784 neurons<br>\n",
    "Output layer: 10 neurons"
   ]
  },
  {
   "cell_type": "code",
   "execution_count": 17,
   "metadata": {
    "collapsed": true
   },
   "outputs": [],
   "source": [
    "import network\n",
    "\n",
    "#creating a network object (biases and weights are randomly initialized)\n",
    "net3 = network.Network([784, 10])"
   ]
  },
  {
   "cell_type": "markdown",
   "metadata": {},
   "source": [
    "# Training the network using SGD  "
   ]
  },
  {
   "cell_type": "markdown",
   "metadata": {},
   "source": [
    "30 epochs, mini-batch size = 10, and eta = 3.0"
   ]
  },
  {
   "cell_type": "code",
   "execution_count": 18,
   "metadata": {},
   "outputs": [
    {
     "name": "stdout",
     "output_type": "stream",
     "text": [
      "Epoch 0 : 4851 / 10000\n",
      "Epoch 1 : 4906 / 10000\n",
      "Epoch 2 : 4974 / 10000\n",
      "Epoch 3 : 5825 / 10000\n",
      "Epoch 4 : 5908 / 10000\n",
      "Epoch 5 : 5897 / 10000\n",
      "Epoch 6 : 6716 / 10000\n",
      "Epoch 7 : 6743 / 10000\n",
      "Epoch 8 : 6777 / 10000\n",
      "Epoch 9 : 6807 / 10000\n",
      "Epoch 10 : 6827 / 10000\n",
      "Epoch 11 : 7689 / 10000\n",
      "Epoch 12 : 8570 / 10000\n",
      "Epoch 13 : 9021 / 10000\n",
      "Epoch 14 : 9116 / 10000\n",
      "Epoch 15 : 9138 / 10000\n",
      "Epoch 16 : 9145 / 10000\n",
      "Epoch 17 : 9143 / 10000\n",
      "Epoch 18 : 9168 / 10000\n",
      "Epoch 19 : 9163 / 10000\n",
      "Epoch 20 : 9161 / 10000\n",
      "Epoch 21 : 9141 / 10000\n",
      "Epoch 22 : 9173 / 10000\n",
      "Epoch 23 : 9161 / 10000\n",
      "Epoch 24 : 9134 / 10000\n",
      "Epoch 25 : 9151 / 10000\n",
      "Epoch 26 : 9168 / 10000\n",
      "Epoch 27 : 9165 / 10000\n",
      "Epoch 28 : 9159 / 10000\n",
      "Epoch 29 : 9156 / 10000\n"
     ]
    }
   ],
   "source": [
    "epochs = 30\n",
    "mini_batch_size = 10\n",
    "eta = 3.0\n",
    "net3.SGD(training_data, epochs, mini_batch_size, eta, test_data=test_data)\n",
    "#PEAK: 91\n",
    "#EPOCH29: 9156"
   ]
  },
  {
   "cell_type": "markdown",
   "metadata": {},
   "source": [
    "# Classification using a built-in neural network from scikit-learn"
   ]
  },
  {
   "cell_type": "code",
   "execution_count": null,
   "metadata": {
    "collapsed": true
   },
   "outputs": [],
   "source": [
    "#SCALED OUTPUT: training set score: 0.930360\n",
    "#               Test set score: 0.923300\n",
    "\n",
    "'''from sklearn.preprocessing import StandardScaler\n",
    "scaler=StandardScaler()\n",
    "scaler.fit(X_train)'''"
   ]
  },
  {
   "cell_type": "code",
   "execution_count": null,
   "metadata": {
    "collapsed": true
   },
   "outputs": [],
   "source": [
    "'''X_train_scaled = scaler.transform(X_train)\n",
    "X_test_scaled = scaler.transform(X_test)'''"
   ]
  },
  {
   "cell_type": "code",
   "execution_count": 15,
   "metadata": {},
   "outputs": [
    {
     "data": {
      "text/plain": [
       "MLPClassifier(activation='logistic', alpha=0.0001, batch_size=10, beta_1=0.9,\n",
       "       beta_2=0.999, early_stopping=False, epsilon=1e-08,\n",
       "       hidden_layer_sizes=100, learning_rate='constant',\n",
       "       learning_rate_init=0.1, max_iter=30, momentum=0.9,\n",
       "       nesterovs_momentum=True, power_t=0.5, random_state=None,\n",
       "       shuffle=True, solver='sgd', tol=0.0001, validation_fraction=0.1,\n",
       "       verbose=False, warm_start=False)"
      ]
     },
     "execution_count": 15,
     "metadata": {},
     "output_type": "execute_result"
    }
   ],
   "source": [
    "from sklearn.neural_network import MLPClassifier\n",
    "\n",
    "#creates a multi layer perceptron classifier\n",
    "net4 = MLPClassifier(hidden_layer_sizes=100,\n",
    "                     max_iter=30,\n",
    "                     batch_size=10,\n",
    "                     learning_rate_init=0.1,\n",
    "                     solver='sgd',\n",
    "                     activation='logistic')\n",
    "net4.fit(X_train, y_train)"
   ]
  },
  {
   "cell_type": "code",
   "execution_count": 16,
   "metadata": {},
   "outputs": [
    {
     "name": "stdout",
     "output_type": "stream",
     "text": [
      "training set score: 0.990620\n",
      "Test set score: 0.971700\n"
     ]
    }
   ],
   "source": [
    "print(\"training set score: %f\" % net4.score(X_train, y_train))\n",
    "print(\"Test set score: %f\" % net4.score(X_test, y_test))\n",
    "#OUTPUT: training set score: 0.987060\n",
    "#        Test set score: 0.972800"
   ]
  },
  {
   "cell_type": "code",
   "execution_count": 17,
   "metadata": {
    "collapsed": true
   },
   "outputs": [],
   "source": [
    "#gets the predictions to make a confusion matrix\n",
    "prediction=net4.predict(X_test)"
   ]
  },
  {
   "cell_type": "code",
   "execution_count": 1,
   "metadata": {},
   "outputs": [
    {
     "ename": "NameError",
     "evalue": "name 'X_test' is not defined",
     "output_type": "error",
     "traceback": [
      "\u001b[1;31m---------------------------------------------------------------------------\u001b[0m",
      "\u001b[1;31mNameError\u001b[0m                                 Traceback (most recent call last)",
      "\u001b[1;32m<ipython-input-1-0fb4da1150c1>\u001b[0m in \u001b[0;36m<module>\u001b[1;34m()\u001b[0m\n\u001b[1;32m----> 1\u001b[1;33m \u001b[0mX_test\u001b[0m\u001b[1;33m\u001b[0m\u001b[0m\n\u001b[0m",
      "\u001b[1;31mNameError\u001b[0m: name 'X_test' is not defined"
     ]
    }
   ],
   "source": [
    "X_test"
   ]
  },
  {
   "cell_type": "code",
   "execution_count": 18,
   "metadata": {},
   "outputs": [
    {
     "name": "stdout",
     "output_type": "stream",
     "text": [
      "[[ 963    0    1    1    1    1    6    0    2    5]\n",
      " [   1 1124    2    2    0    1    1    1    3    0]\n",
      " [   6    8  970   10    2    1    5   17   11    2]\n",
      " [   1    1    2  976    0    1    0    7    9   13]\n",
      " [   0    0    3    0  947    0    2    2    2   26]\n",
      " [   3    1    0   16    1  850    7    2    6    6]\n",
      " [   3    5    1    1    3    6  935    1    3    0]\n",
      " [   1    2    2    1    0    0    0 1008    2   12]\n",
      " [   3    0    1    4    2    2    0    5  955    2]\n",
      " [   0    3    0    5    4    1    1    5    1  989]]\n"
     ]
    }
   ],
   "source": [
    "from sklearn.metrics import classification_report, confusion_matrix\n",
    "\n",
    "#confusion matrix to table prediction vs actual\n",
    "conf_matrix = confusion_matrix(y_test, prediction)\n",
    "print(conf_matrix)"
   ]
  },
  {
   "cell_type": "code",
   "execution_count": 33,
   "metadata": {},
   "outputs": [
    {
     "name": "stdout",
     "output_type": "stream",
     "text": [
      "Saving figure confusion_matrix_plot\n"
     ]
    },
    {
     "ename": "FileNotFoundError",
     "evalue": "[Errno 2] No such file or directory: '.\\\\images\\\\classification\\\\confusion_matrix_plot.png'",
     "output_type": "error",
     "traceback": [
      "\u001b[1;31m---------------------------------------------------------------------------\u001b[0m",
      "\u001b[1;31mFileNotFoundError\u001b[0m                         Traceback (most recent call last)",
      "\u001b[1;32m<ipython-input-33-926b1b0a6fdf>\u001b[0m in \u001b[0;36m<module>\u001b[1;34m()\u001b[0m\n\u001b[0;32m      1\u001b[0m \u001b[1;31m#outputs an image representation of a confusion matrix. A diagonal would mean a decent result\u001b[0m\u001b[1;33m\u001b[0m\u001b[1;33m\u001b[0m\u001b[0m\n\u001b[0;32m      2\u001b[0m \u001b[0mplt\u001b[0m\u001b[1;33m.\u001b[0m\u001b[0mmatshow\u001b[0m\u001b[1;33m(\u001b[0m\u001b[0mconf_matrix\u001b[0m\u001b[1;33m,\u001b[0m \u001b[0mcmap\u001b[0m\u001b[1;33m=\u001b[0m\u001b[0mplt\u001b[0m\u001b[1;33m.\u001b[0m\u001b[0mcm\u001b[0m\u001b[1;33m.\u001b[0m\u001b[0mgray\u001b[0m\u001b[1;33m)\u001b[0m\u001b[1;33m\u001b[0m\u001b[0m\n\u001b[1;32m----> 3\u001b[1;33m \u001b[0msave_fig\u001b[0m\u001b[1;33m(\u001b[0m\u001b[1;34m\"confusion_matrix_plot\"\u001b[0m\u001b[1;33m,\u001b[0m \u001b[0mtight_layout\u001b[0m\u001b[1;33m=\u001b[0m\u001b[1;32mFalse\u001b[0m\u001b[1;33m)\u001b[0m\u001b[1;33m\u001b[0m\u001b[0m\n\u001b[0m\u001b[0;32m      4\u001b[0m \u001b[0mplt\u001b[0m\u001b[1;33m.\u001b[0m\u001b[0mshow\u001b[0m\u001b[1;33m(\u001b[0m\u001b[1;33m)\u001b[0m\u001b[1;33m\u001b[0m\u001b[0m\n",
      "\u001b[1;32m<ipython-input-1-352d54a383ab>\u001b[0m in \u001b[0;36msave_fig\u001b[1;34m(fig_id, tight_layout)\u001b[0m\n\u001b[0;32m     31\u001b[0m     \u001b[1;32mif\u001b[0m \u001b[0mtight_layout\u001b[0m\u001b[1;33m:\u001b[0m\u001b[1;33m\u001b[0m\u001b[0m\n\u001b[0;32m     32\u001b[0m         \u001b[0mplt\u001b[0m\u001b[1;33m.\u001b[0m\u001b[0mtight_layout\u001b[0m\u001b[1;33m(\u001b[0m\u001b[1;33m)\u001b[0m\u001b[1;33m\u001b[0m\u001b[0m\n\u001b[1;32m---> 33\u001b[1;33m     \u001b[0mplt\u001b[0m\u001b[1;33m.\u001b[0m\u001b[0msavefig\u001b[0m\u001b[1;33m(\u001b[0m\u001b[0mpath\u001b[0m\u001b[1;33m,\u001b[0m \u001b[0mformat\u001b[0m\u001b[1;33m=\u001b[0m\u001b[1;34m'png'\u001b[0m\u001b[1;33m,\u001b[0m \u001b[0mdpi\u001b[0m\u001b[1;33m=\u001b[0m\u001b[1;36m300\u001b[0m\u001b[1;33m)\u001b[0m\u001b[1;33m\u001b[0m\u001b[0m\n\u001b[0m\u001b[0;32m     34\u001b[0m \u001b[1;33m\u001b[0m\u001b[0m\n",
      "\u001b[1;32m~\\Anaconda3\\lib\\site-packages\\matplotlib\\pyplot.py\u001b[0m in \u001b[0;36msavefig\u001b[1;34m(*args, **kwargs)\u001b[0m\n\u001b[0;32m    695\u001b[0m \u001b[1;32mdef\u001b[0m \u001b[0msavefig\u001b[0m\u001b[1;33m(\u001b[0m\u001b[1;33m*\u001b[0m\u001b[0margs\u001b[0m\u001b[1;33m,\u001b[0m \u001b[1;33m**\u001b[0m\u001b[0mkwargs\u001b[0m\u001b[1;33m)\u001b[0m\u001b[1;33m:\u001b[0m\u001b[1;33m\u001b[0m\u001b[0m\n\u001b[0;32m    696\u001b[0m     \u001b[0mfig\u001b[0m \u001b[1;33m=\u001b[0m \u001b[0mgcf\u001b[0m\u001b[1;33m(\u001b[0m\u001b[1;33m)\u001b[0m\u001b[1;33m\u001b[0m\u001b[0m\n\u001b[1;32m--> 697\u001b[1;33m     \u001b[0mres\u001b[0m \u001b[1;33m=\u001b[0m \u001b[0mfig\u001b[0m\u001b[1;33m.\u001b[0m\u001b[0msavefig\u001b[0m\u001b[1;33m(\u001b[0m\u001b[1;33m*\u001b[0m\u001b[0margs\u001b[0m\u001b[1;33m,\u001b[0m \u001b[1;33m**\u001b[0m\u001b[0mkwargs\u001b[0m\u001b[1;33m)\u001b[0m\u001b[1;33m\u001b[0m\u001b[0m\n\u001b[0m\u001b[0;32m    698\u001b[0m     \u001b[0mfig\u001b[0m\u001b[1;33m.\u001b[0m\u001b[0mcanvas\u001b[0m\u001b[1;33m.\u001b[0m\u001b[0mdraw_idle\u001b[0m\u001b[1;33m(\u001b[0m\u001b[1;33m)\u001b[0m   \u001b[1;31m# need this if 'transparent=True' to reset colors\u001b[0m\u001b[1;33m\u001b[0m\u001b[0m\n\u001b[0;32m    699\u001b[0m     \u001b[1;32mreturn\u001b[0m \u001b[0mres\u001b[0m\u001b[1;33m\u001b[0m\u001b[0m\n",
      "\u001b[1;32m~\\Anaconda3\\lib\\site-packages\\matplotlib\\figure.py\u001b[0m in \u001b[0;36msavefig\u001b[1;34m(self, fname, **kwargs)\u001b[0m\n\u001b[0;32m   1812\u001b[0m             \u001b[0mself\u001b[0m\u001b[1;33m.\u001b[0m\u001b[0mset_frameon\u001b[0m\u001b[1;33m(\u001b[0m\u001b[0mframeon\u001b[0m\u001b[1;33m)\u001b[0m\u001b[1;33m\u001b[0m\u001b[0m\n\u001b[0;32m   1813\u001b[0m \u001b[1;33m\u001b[0m\u001b[0m\n\u001b[1;32m-> 1814\u001b[1;33m         \u001b[0mself\u001b[0m\u001b[1;33m.\u001b[0m\u001b[0mcanvas\u001b[0m\u001b[1;33m.\u001b[0m\u001b[0mprint_figure\u001b[0m\u001b[1;33m(\u001b[0m\u001b[0mfname\u001b[0m\u001b[1;33m,\u001b[0m \u001b[1;33m**\u001b[0m\u001b[0mkwargs\u001b[0m\u001b[1;33m)\u001b[0m\u001b[1;33m\u001b[0m\u001b[0m\n\u001b[0m\u001b[0;32m   1815\u001b[0m \u001b[1;33m\u001b[0m\u001b[0m\n\u001b[0;32m   1816\u001b[0m         \u001b[1;32mif\u001b[0m \u001b[0mframeon\u001b[0m\u001b[1;33m:\u001b[0m\u001b[1;33m\u001b[0m\u001b[0m\n",
      "\u001b[1;32m~\\Anaconda3\\lib\\site-packages\\matplotlib\\backend_bases.py\u001b[0m in \u001b[0;36mprint_figure\u001b[1;34m(self, filename, dpi, facecolor, edgecolor, orientation, format, **kwargs)\u001b[0m\n\u001b[0;32m   2257\u001b[0m                 \u001b[0morientation\u001b[0m\u001b[1;33m=\u001b[0m\u001b[0morientation\u001b[0m\u001b[1;33m,\u001b[0m\u001b[1;33m\u001b[0m\u001b[0m\n\u001b[0;32m   2258\u001b[0m                 \u001b[0mbbox_inches_restore\u001b[0m\u001b[1;33m=\u001b[0m\u001b[0m_bbox_inches_restore\u001b[0m\u001b[1;33m,\u001b[0m\u001b[1;33m\u001b[0m\u001b[0m\n\u001b[1;32m-> 2259\u001b[1;33m                 **kwargs)\n\u001b[0m\u001b[0;32m   2260\u001b[0m         \u001b[1;32mfinally\u001b[0m\u001b[1;33m:\u001b[0m\u001b[1;33m\u001b[0m\u001b[0m\n\u001b[0;32m   2261\u001b[0m             \u001b[1;32mif\u001b[0m \u001b[0mbbox_inches\u001b[0m \u001b[1;32mand\u001b[0m \u001b[0mrestore_bbox\u001b[0m\u001b[1;33m:\u001b[0m\u001b[1;33m\u001b[0m\u001b[0m\n",
      "\u001b[1;32m~\\Anaconda3\\lib\\site-packages\\matplotlib\\backends\\backend_agg.py\u001b[0m in \u001b[0;36mprint_png\u001b[1;34m(self, filename_or_obj, *args, **kwargs)\u001b[0m\n\u001b[0;32m    510\u001b[0m         \u001b[0mrenderer\u001b[0m\u001b[1;33m.\u001b[0m\u001b[0mdpi\u001b[0m \u001b[1;33m=\u001b[0m \u001b[0mself\u001b[0m\u001b[1;33m.\u001b[0m\u001b[0mfigure\u001b[0m\u001b[1;33m.\u001b[0m\u001b[0mdpi\u001b[0m\u001b[1;33m\u001b[0m\u001b[0m\n\u001b[0;32m    511\u001b[0m         \u001b[1;32mif\u001b[0m \u001b[0misinstance\u001b[0m\u001b[1;33m(\u001b[0m\u001b[0mfilename_or_obj\u001b[0m\u001b[1;33m,\u001b[0m \u001b[0msix\u001b[0m\u001b[1;33m.\u001b[0m\u001b[0mstring_types\u001b[0m\u001b[1;33m)\u001b[0m\u001b[1;33m:\u001b[0m\u001b[1;33m\u001b[0m\u001b[0m\n\u001b[1;32m--> 512\u001b[1;33m             \u001b[0mfilename_or_obj\u001b[0m \u001b[1;33m=\u001b[0m \u001b[0mopen\u001b[0m\u001b[1;33m(\u001b[0m\u001b[0mfilename_or_obj\u001b[0m\u001b[1;33m,\u001b[0m \u001b[1;34m'wb'\u001b[0m\u001b[1;33m)\u001b[0m\u001b[1;33m\u001b[0m\u001b[0m\n\u001b[0m\u001b[0;32m    513\u001b[0m             \u001b[0mclose\u001b[0m \u001b[1;33m=\u001b[0m \u001b[1;32mTrue\u001b[0m\u001b[1;33m\u001b[0m\u001b[0m\n\u001b[0;32m    514\u001b[0m         \u001b[1;32melse\u001b[0m\u001b[1;33m:\u001b[0m\u001b[1;33m\u001b[0m\u001b[0m\n",
      "\u001b[1;31mFileNotFoundError\u001b[0m: [Errno 2] No such file or directory: '.\\\\images\\\\classification\\\\confusion_matrix_plot.png'"
     ]
    },
    {
     "data": {
      "image/png": "[encoded data removed]",
      "text/plain": [
       "<matplotlib.figure.Figure at 0x1754b949d68>"
      ]
     },
     "metadata": {},
     "output_type": "display_data"
    }
   ],
   "source": [
    "#outputs an image representation of a confusion matrix. A diagonal would mean a decent result\n",
    "plt.matshow(conf_matrix, cmap=plt.cm.gray)\n",
    "save_fig(\"confusion_matrix_plot\", tight_layout=False)\n",
    "plt.show()"
   ]
  },
  {
   "cell_type": "code",
   "execution_count": 20,
   "metadata": {},
   "outputs": [
    {
     "name": "stdout",
     "output_type": "stream",
     "text": [
      "             precision    recall  f1-score   support\n",
      "\n",
      "          0       0.98      0.98      0.98       980\n",
      "          1       0.98      0.99      0.99      1135\n",
      "          2       0.99      0.94      0.96      1032\n",
      "          3       0.96      0.97      0.96      1010\n",
      "          4       0.99      0.96      0.98       982\n",
      "          5       0.98      0.95      0.97       892\n",
      "          6       0.98      0.98      0.98       958\n",
      "          7       0.96      0.98      0.97      1028\n",
      "          8       0.96      0.98      0.97       974\n",
      "          9       0.94      0.98      0.96      1009\n",
      "\n",
      "avg / total       0.97      0.97      0.97     10000\n",
      "\n"
     ]
    }
   ],
   "source": [
    "#displays the main classification metrics\n",
    "print(classification_report(y_test, prediction))"
   ]
  },
  {
   "cell_type": "code",
   "execution_count": 21,
   "metadata": {},
   "outputs": [
    {
     "name": "stderr",
     "output_type": "stream",
     "text": [
      "C:\\Users\\Mine\\Anaconda3\\lib\\site-packages\\sklearn\\neural_network\\multilayer_perceptron.py:564: ConvergenceWarning: Stochastic Optimizer: Maximum iterations (30) reached and the optimization hasn't converged yet.\n",
      "  % self.max_iter, ConvergenceWarning)\n",
      "C:\\Users\\Mine\\Anaconda3\\lib\\site-packages\\sklearn\\neural_network\\multilayer_perceptron.py:564: ConvergenceWarning: Stochastic Optimizer: Maximum iterations (30) reached and the optimization hasn't converged yet.\n",
      "  % self.max_iter, ConvergenceWarning)\n",
      "C:\\Users\\Mine\\Anaconda3\\lib\\site-packages\\sklearn\\neural_network\\multilayer_perceptron.py:564: ConvergenceWarning: Stochastic Optimizer: Maximum iterations (30) reached and the optimization hasn't converged yet.\n",
      "  % self.max_iter, ConvergenceWarning)\n",
      "C:\\Users\\Mine\\Anaconda3\\lib\\site-packages\\sklearn\\neural_network\\multilayer_perceptron.py:564: ConvergenceWarning: Stochastic Optimizer: Maximum iterations (30) reached and the optimization hasn't converged yet.\n",
      "  % self.max_iter, ConvergenceWarning)\n",
      "C:\\Users\\Mine\\Anaconda3\\lib\\site-packages\\sklearn\\neural_network\\multilayer_perceptron.py:564: ConvergenceWarning: Stochastic Optimizer: Maximum iterations (30) reached and the optimization hasn't converged yet.\n",
      "  % self.max_iter, ConvergenceWarning)\n",
      "C:\\Users\\Mine\\Anaconda3\\lib\\site-packages\\sklearn\\neural_network\\multilayer_perceptron.py:564: ConvergenceWarning: Stochastic Optimizer: Maximum iterations (30) reached and the optimization hasn't converged yet.\n",
      "  % self.max_iter, ConvergenceWarning)\n",
      "C:\\Users\\Mine\\Anaconda3\\lib\\site-packages\\sklearn\\neural_network\\multilayer_perceptron.py:564: ConvergenceWarning: Stochastic Optimizer: Maximum iterations (30) reached and the optimization hasn't converged yet.\n",
      "  % self.max_iter, ConvergenceWarning)\n"
     ]
    }
   ],
   "source": [
    "from sklearn.model_selection import learning_curve\n",
    "train_sizes, train_scores, test_scores = learning_curve(net4, X_train, y_train)"
   ]
  },
  {
   "cell_type": "code",
   "execution_count": 25,
   "metadata": {
    "collapsed": true
   },
   "outputs": [],
   "source": [
    "train_scores_mean = abs(train_scores.mean(axis=1))\n",
    "test_scores_mean = abs(test_scores.mean(axis=1))"
   ]
  },
  {
   "cell_type": "code",
   "execution_count": 26,
   "metadata": {},
   "outputs": [
    {
     "data": {
      "text/plain": [
       "<matplotlib.legend.Legend at 0x17530803978>"
      ]
     },
     "execution_count": 26,
     "metadata": {},
     "output_type": "execute_result"
    },
    {
     "data": {
      "image/png": "[encoded data removed]",
      "text/plain": [
       "<matplotlib.figure.Figure at 0x1754b7d4e48>"
      ]
     },
     "metadata": {},
     "output_type": "display_data"
    }
   ],
   "source": [
    "import matplotlib.pyplot as plt\n",
    "plt.style.use('seaborn')\n",
    "\n",
    "plt.plot(train_sizes, train_scores_mean, label='Training Error')\n",
    "plt.plot(train_sizes, test_scores_mean, label='Test Error')\n",
    "\n",
    "plt.ylabel('MSE')\n",
    "plt.xlabel('Training set size')\n",
    "plt.title('Learning Curve for Neural Network')\n",
    "plt.legend()"
   ]
  },
  {
   "cell_type": "code",
   "execution_count": 27,
   "metadata": {},
   "outputs": [
    {
     "data": {
      "text/plain": [
       "array([[ 1.        ,  1.        ,  1.        ],\n",
       "       [ 1.        ,  1.        ,  1.        ],\n",
       "       [ 1.        ,  1.        ,  1.        ],\n",
       "       [ 1.        ,  1.        ,  1.        ],\n",
       "       [ 0.97332813,  0.99126939,  0.98223876]])"
      ]
     },
     "execution_count": 27,
     "metadata": {},
     "output_type": "execute_result"
    }
   ],
   "source": [
    "train_scores"
   ]
  },
  {
   "cell_type": "code",
   "execution_count": 28,
   "metadata": {},
   "outputs": [
    {
     "data": {
      "text/plain": [
       "30"
      ]
     },
     "execution_count": 28,
     "metadata": {},
     "output_type": "execute_result"
    }
   ],
   "source": [
    "epochs"
   ]
  },
  {
   "cell_type": "markdown",
   "metadata": {},
   "source": [
    "# Another attempt "
   ]
  },
  {
   "cell_type": "code",
   "execution_count": 15,
   "metadata": {},
   "outputs": [
    {
     "name": "stdout",
     "output_type": "stream",
     "text": [
      "Iteration 1, loss = 0.26234170\n",
      "Validation score: 0.955200\n",
      "Iteration 2, loss = 0.13480525\n",
      "Validation score: 0.965600\n",
      "Iteration 3, loss = 0.10765889\n",
      "Validation score: 0.968600\n",
      "Iteration 4, loss = 0.09063245\n",
      "Validation score: 0.963000\n",
      "Iteration 5, loss = 0.07882299\n",
      "Validation score: 0.966400\n",
      "Iteration 6, loss = 0.07299124\n",
      "Validation score: 0.967600\n",
      "Validation score did not improve more than tol=0.000100 for two consecutive epochs. Stopping.\n"
     ]
    },
    {
     "data": {
      "text/plain": [
       "MLPClassifier(activation='logistic', alpha=0.0001, batch_size=10, beta_1=0.9,\n",
       "       beta_2=0.999, early_stopping=True, epsilon=1e-08,\n",
       "       hidden_layer_sizes=100, learning_rate='constant',\n",
       "       learning_rate_init=0.1, max_iter=30, momentum=0.9,\n",
       "       nesterovs_momentum=True, power_t=0.5, random_state=None,\n",
       "       shuffle=True, solver='sgd', tol=0.0001, validation_fraction=0.1,\n",
       "       verbose=True, warm_start=False)"
      ]
     },
     "execution_count": 15,
     "metadata": {},
     "output_type": "execute_result"
    }
   ],
   "source": [
    "from sklearn.neural_network import MLPClassifier\n",
    "\n",
    "net5 = MLPClassifier(hidden_layer_sizes=100,\n",
    "                     max_iter=30,\n",
    "                     batch_size=10,\n",
    "                     learning_rate_init=0.1,\n",
    "                     solver='sgd',\n",
    "                     activation='logistic',\n",
    "                     early_stopping=True,\n",
    "                     verbose=True)\n",
    "net5.fit(X_train, y_train)"
   ]
  },
  {
   "cell_type": "code",
   "execution_count": 16,
   "metadata": {},
   "outputs": [
    {
     "name": "stdout",
     "output_type": "stream",
     "text": [
      "training set score: 0.979400\n",
      "Test set score: 0.970700\n"
     ]
    }
   ],
   "source": [
    "print(\"training set score: %f\" % net5.score(X_train, y_train))\n",
    "print(\"Test set score: %f\" % net5.score(X_test, y_test))\n",
    "\n",
    "#OUTPUT: training set score: 0.979400\n",
    "#        Test set score: 0.970700"
   ]
  },
  {
   "cell_type": "markdown",
   "metadata": {},
   "source": [
    "#  Another Attempt"
   ]
  },
  {
   "cell_type": "code",
   "execution_count": 17,
   "metadata": {},
   "outputs": [
    {
     "data": {
      "text/plain": [
       "MLPClassifier(activation='logistic', alpha=0.0001, batch_size=10, beta_1=0.9,\n",
       "       beta_2=0.999, early_stopping=False, epsilon=1e-08,\n",
       "       hidden_layer_sizes=100, learning_rate='constant',\n",
       "       learning_rate_init=0.1, max_iter=30, momentum=0.9,\n",
       "       nesterovs_momentum=True, power_t=0.5, random_state=None,\n",
       "       shuffle=True, solver='lbfgs', tol=0.0001, validation_fraction=0.1,\n",
       "       verbose=True, warm_start=False)"
      ]
     },
     "execution_count": 17,
     "metadata": {},
     "output_type": "execute_result"
    }
   ],
   "source": [
    "from sklearn.neural_network import MLPClassifier\n",
    "\n",
    "net6 = MLPClassifier(hidden_layer_sizes=100,\n",
    "                     max_iter=30,\n",
    "                     batch_size=10,\n",
    "                     learning_rate_init=0.1,\n",
    "                     solver='lbfgs',\n",
    "                     activation='logistic',\n",
    "                     verbose=True)\n",
    "net6.fit(X_train, y_train)"
   ]
  },
  {
   "cell_type": "code",
   "execution_count": 18,
   "metadata": {},
   "outputs": [
    {
     "name": "stdout",
     "output_type": "stream",
     "text": [
      "training set score: 0.921500\n",
      "Test set score: 0.922000\n"
     ]
    }
   ],
   "source": [
    "print(\"training set score: %f\" % net6.score(X_train, y_train))\n",
    "print(\"Test set score: %f\" % net6.score(X_test, y_test))\n",
    "\n",
    "#training set score: 0.921500\n",
    "#Test set score: 0.922000"
   ]
  },
  {
   "cell_type": "markdown",
   "metadata": {},
   "source": [
    "#  Another Attempt"
   ]
  },
  {
   "cell_type": "code",
   "execution_count": 19,
   "metadata": {},
   "outputs": [
    {
     "name": "stdout",
     "output_type": "stream",
     "text": [
      "Iteration 1, loss = 2.70397700\n",
      "Iteration 2, loss = 2.81208699\n",
      "Iteration 3, loss = 2.84167869\n",
      "Iteration 4, loss = 2.54620391\n",
      "Iteration 5, loss = 2.42217571\n",
      "Iteration 6, loss = 2.44375675\n",
      "Iteration 7, loss = 2.49057223\n",
      "Iteration 8, loss = 2.40616390\n",
      "Iteration 9, loss = 2.54063380\n",
      "Iteration 10, loss = 2.39808960\n",
      "Iteration 11, loss = 2.43364916\n",
      "Iteration 12, loss = 2.67436744\n",
      "Iteration 13, loss = 2.93265158\n",
      "Training loss did not improve more than tol=0.000100 for two consecutive epochs. Stopping.\n"
     ]
    },
    {
     "data": {
      "text/plain": [
       "MLPClassifier(activation='logistic', alpha=0.0001, batch_size=10, beta_1=0.9,\n",
       "       beta_2=0.999, early_stopping=False, epsilon=1e-08,\n",
       "       hidden_layer_sizes=100, learning_rate='constant',\n",
       "       learning_rate_init=0.1, max_iter=30, momentum=0.9,\n",
       "       nesterovs_momentum=True, power_t=0.5, random_state=None,\n",
       "       shuffle=True, solver='adam', tol=0.0001, validation_fraction=0.1,\n",
       "       verbose=True, warm_start=False)"
      ]
     },
     "execution_count": 19,
     "metadata": {},
     "output_type": "execute_result"
    }
   ],
   "source": [
    "from sklearn.neural_network import MLPClassifier\n",
    "\n",
    "net7 = MLPClassifier(hidden_layer_sizes=100,\n",
    "                     max_iter=30,\n",
    "                     batch_size=10,\n",
    "                     learning_rate_init=0.1,\n",
    "                     solver='adam',\n",
    "                     activation='logistic',\n",
    "                     verbose=True)\n",
    "net7.fit(X_train, y_train)"
   ]
  },
  {
   "cell_type": "code",
   "execution_count": 20,
   "metadata": {},
   "outputs": [
    {
     "name": "stdout",
     "output_type": "stream",
     "text": [
      "training set score: 0.691760\n",
      "Test set score: 0.691500\n"
     ]
    }
   ],
   "source": [
    "print(\"training set score: %f\" % net7.score(X_train, y_train))\n",
    "print(\"Test set score: %f\" % net7.score(X_test, y_test))\n",
    "#training set score: 0.703640\n",
    "#Test set score: 0.711100"
   ]
  },
  {
   "cell_type": "markdown",
   "metadata": {},
   "source": [
    "#  Another Attempt"
   ]
  },
  {
   "cell_type": "code",
   "execution_count": 21,
   "metadata": {},
   "outputs": [
    {
     "name": "stdout",
     "output_type": "stream",
     "text": [
      "Iteration 1, loss = 0.26061545\n",
      "Validation score: 0.952400\n",
      "Iteration 2, loss = 0.13322874\n",
      "Validation score: 0.960600\n",
      "Iteration 3, loss = 0.10264690\n",
      "Validation score: 0.965000\n",
      "Iteration 4, loss = 0.09250281\n",
      "Validation score: 0.964200\n",
      "Iteration 5, loss = 0.08260456\n",
      "Validation score: 0.969000\n",
      "Iteration 6, loss = 0.07562543\n",
      "Validation score: 0.965000\n",
      "Iteration 7, loss = 0.06728011\n",
      "Validation score: 0.967800\n",
      "Iteration 8, loss = 0.06297411\n",
      "Validation score: 0.968800\n",
      "Validation score did not improve more than tol=0.000100 for two consecutive epochs. Stopping.\n"
     ]
    },
    {
     "data": {
      "text/plain": [
       "MLPClassifier(activation='logistic', alpha=0.0001, batch_size=10, beta_1=0.9,\n",
       "       beta_2=0.999, early_stopping=True, epsilon=1e-08,\n",
       "       hidden_layer_sizes=100, learning_rate='constant',\n",
       "       learning_rate_init=0.1, max_iter=30, momentum=0.9,\n",
       "       nesterovs_momentum=True, power_t=0.5, random_state=None,\n",
       "       shuffle=True, solver='sgd', tol=0.0001, validation_fraction=0.1,\n",
       "       verbose=True, warm_start=True)"
      ]
     },
     "execution_count": 21,
     "metadata": {},
     "output_type": "execute_result"
    }
   ],
   "source": [
    "from sklearn.neural_network import MLPClassifier\n",
    "\n",
    "net8 = MLPClassifier(hidden_layer_sizes=100,\n",
    "                     max_iter=30,\n",
    "                     batch_size=10,\n",
    "                     learning_rate_init=0.1,\n",
    "                     solver='sgd',\n",
    "                     activation='logistic',\n",
    "                     early_stopping=True,\n",
    "                     warm_start=True,\n",
    "                     verbose=True)\n",
    "net8.fit(X_train, y_train)"
   ]
  },
  {
   "cell_type": "code",
   "execution_count": 22,
   "metadata": {},
   "outputs": [
    {
     "name": "stdout",
     "output_type": "stream",
     "text": [
      "training set score: 0.986240\n",
      "Test set score: 0.972100\n"
     ]
    }
   ],
   "source": [
    "print(\"training set score: %f\" % net8.score(X_train, y_train))\n",
    "print(\"Test set score: %f\" % net8.score(X_test, y_test))\n",
    "#training set score: 0.986240\n",
    "#Test set score: 0.972100"
   ]
  },
  {
   "cell_type": "markdown",
   "metadata": {},
   "source": [
    "#  Another Attempt"
   ]
  },
  {
   "cell_type": "code",
   "execution_count": 25,
   "metadata": {},
   "outputs": [
    {
     "name": "stdout",
     "output_type": "stream",
     "text": [
      "Iteration 1, loss = 0.29292430\n",
      "Validation score: 0.957000\n",
      "Iteration 2, loss = 0.12811752\n",
      "Validation score: 0.965000\n",
      "Iteration 3, loss = 0.09967185\n",
      "Validation score: 0.970400\n",
      "Iteration 4, loss = 0.08256600\n",
      "Validation score: 0.969200\n",
      "Iteration 5, loss = 0.07254648\n",
      "Validation score: 0.970400\n",
      "Iteration 6, loss = 0.06353922\n",
      "Validation score: 0.974200\n",
      "Iteration 7, loss = 0.05590136\n",
      "Validation score: 0.972000\n",
      "Iteration 8, loss = 0.05156815\n",
      "Validation score: 0.976000\n",
      "Iteration 9, loss = 0.04721020\n",
      "Validation score: 0.974600\n",
      "Iteration 10, loss = 0.04290990\n",
      "Validation score: 0.975800\n",
      "Iteration 11, loss = 0.04065139\n",
      "Validation score: 0.975400\n",
      "Validation score did not improve more than tol=0.000100 for two consecutive epochs. Stopping.\n"
     ]
    },
    {
     "data": {
      "text/plain": [
       "MLPClassifier(activation='logistic', alpha=0.0001, batch_size=10, beta_1=0.9,\n",
       "       beta_2=0.999, early_stopping=True, epsilon=1e-08,\n",
       "       hidden_layer_sizes=400, learning_rate='constant',\n",
       "       learning_rate_init=0.1, max_iter=30, momentum=0.9,\n",
       "       nesterovs_momentum=True, power_t=0.5, random_state=None,\n",
       "       shuffle=True, solver='sgd', tol=0.0001, validation_fraction=0.1,\n",
       "       verbose=True, warm_start=True)"
      ]
     },
     "execution_count": 25,
     "metadata": {},
     "output_type": "execute_result"
    }
   ],
   "source": [
    "from sklearn.neural_network import MLPClassifier\n",
    "\n",
    "net9 = MLPClassifier(hidden_layer_sizes=(400),\n",
    "                     max_iter=30,\n",
    "                     batch_size=10,\n",
    "                     learning_rate_init=0.1,\n",
    "                     solver='sgd',\n",
    "                     activation='logistic',\n",
    "                     early_stopping=True,\n",
    "                     warm_start=True,\n",
    "                     alpha=0.0001,\n",
    "                     verbose=True)\n",
    "net9.fit(X_train, y_train)"
   ]
  },
  {
   "cell_type": "code",
   "execution_count": 28,
   "metadata": {},
   "outputs": [
    {
     "name": "stdout",
     "output_type": "stream",
     "text": [
      "training set score: 0.993240\n",
      "Test set score: 0.974400\n"
     ]
    }
   ],
   "source": [
    "print(\"training set score: %f\" % net9.score(X_train, y_train))\n",
    "print(\"Test set score: %f\" % net9.score(X_test, y_test))\n",
    "#training set score: 0.993240\n",
    "#Test set score: 0.974400"
   ]
  },
  {
   "cell_type": "code",
   "execution_count": 29,
   "metadata": {
    "collapsed": true
   },
   "outputs": [
    {
     "ename": "NameError",
     "evalue": "name 'net9' is not defined",
     "output_type": "error",
     "traceback": [
      "\u001b[1;31m---------------------------------------------------------------------------\u001b[0m",
      "\u001b[1;31mNameError\u001b[0m                                 Traceback (most recent call last)",
      "\u001b[1;32m<ipython-input-29-fb675484664e>\u001b[0m in \u001b[0;36m<module>\u001b[1;34m()\u001b[0m\n\u001b[0;32m      1\u001b[0m \u001b[1;32mfrom\u001b[0m \u001b[0msklearn\u001b[0m\u001b[1;33m.\u001b[0m\u001b[0mmodel_selection\u001b[0m \u001b[1;32mimport\u001b[0m \u001b[0mlearning_curve\u001b[0m\u001b[1;33m\u001b[0m\u001b[0m\n\u001b[1;32m----> 2\u001b[1;33m \u001b[0mtrain_sizes\u001b[0m\u001b[1;33m,\u001b[0m \u001b[0mtrain_scores\u001b[0m\u001b[1;33m,\u001b[0m \u001b[0mtest_scores\u001b[0m \u001b[1;33m=\u001b[0m \u001b[0mlearning_curve\u001b[0m\u001b[1;33m(\u001b[0m\u001b[0mnet9\u001b[0m\u001b[1;33m,\u001b[0m \u001b[0mX_train\u001b[0m\u001b[1;33m,\u001b[0m \u001b[0my_train\u001b[0m\u001b[1;33m)\u001b[0m\u001b[1;33m\u001b[0m\u001b[0m\n\u001b[0m",
      "\u001b[1;31mNameError\u001b[0m: name 'net9' is not defined"
     ]
    }
   ],
   "source": [
    "from sklearn.model_selection import learning_curve\n",
    "train_sizes, train_scores, test_scores = learning_curve(net9, X_train, y_train)"
   ]
  },
  {
   "cell_type": "code",
   "execution_count": null,
   "metadata": {
    "collapsed": true
   },
   "outputs": [],
   "source": [
    "'''\n",
    "train_scores_mean = abs(train_scores.mean(axis=1))\n",
    "test_scores_mean = abs(test_scores.mean(axis=1))\n",
    "'''"
   ]
  },
  {
   "cell_type": "code",
   "execution_count": null,
   "metadata": {
    "collapsed": true
   },
   "outputs": [],
   "source": [
    "'''import matplotlib.pyplot as plt\n",
    "plt.style.use('seaborn')\n",
    "\n",
    "plt.plot(train_sizes, train_scores_mean, label='Training Error')\n",
    "plt.plot(train_sizes, test_scores_mean, label='Test Error')\n",
    "\n",
    "plt.ylabel('MSE')\n",
    "plt.xlabel('Training set size')\n",
    "plt.title('Learning Curve for Neural Network')\n",
    "plt.legend()'''"
   ]
  },
  {
   "cell_type": "code",
   "execution_count": 30,
   "metadata": {
    "collapsed": true
   },
   "outputs": [
    {
     "ename": "ModuleNotFoundError",
     "evalue": "No module named 'adspy_shared_utilities'",
     "output_type": "error",
     "traceback": [
      "\u001b[1;31m---------------------------------------------------------------------------\u001b[0m",
      "\u001b[1;31mModuleNotFoundError\u001b[0m                       Traceback (most recent call last)",
      "\u001b[1;32m<ipython-input-30-2c2e26aa62fb>\u001b[0m in \u001b[0;36m<module>\u001b[1;34m()\u001b[0m\n\u001b[1;32m----> 1\u001b[1;33m \u001b[1;32mfrom\u001b[0m \u001b[0madspy_shared_utilities\u001b[0m \u001b[1;32mimport\u001b[0m \u001b[0mplot_class_regions_for_classifier_subplot\u001b[0m\u001b[1;33m\u001b[0m\u001b[0m\n\u001b[0m\u001b[0;32m      2\u001b[0m \u001b[0mfig\u001b[0m\u001b[1;33m,\u001b[0m \u001b[0msubaxes\u001b[0m \u001b[1;33m=\u001b[0m \u001b[0mplt\u001b[0m\u001b[1;33m.\u001b[0m\u001b[0msubplots\u001b[0m\u001b[1;33m(\u001b[0m\u001b[1;36m3\u001b[0m\u001b[1;33m,\u001b[0m\u001b[1;36m1\u001b[0m\u001b[1;33m,\u001b[0m\u001b[0mfigsize\u001b[0m\u001b[1;33m=\u001b[0m\u001b[1;33m(\u001b[0m\u001b[1;36m6\u001b[0m\u001b[1;33m,\u001b[0m\u001b[1;36m18\u001b[0m\u001b[1;33m)\u001b[0m\u001b[1;33m)\u001b[0m\u001b[1;33m\u001b[0m\u001b[0m\n\u001b[0;32m      3\u001b[0m \u001b[0mplot_class_regions_for_classifier_subplot\u001b[0m\u001b[1;33m(\u001b[0m\u001b[0mnet9\u001b[0m\u001b[1;33m,\u001b[0m \u001b[0mX_train\u001b[0m\u001b[1;33m,\u001b[0m \u001b[0my_train\u001b[0m\u001b[1;33m,\u001b[0m \u001b[0mX_test\u001b[0m\u001b[1;33m,\u001b[0m \u001b[0my_test\u001b[0m\u001b[1;33m,\u001b[0m \u001b[0mtitle\u001b[0m\u001b[1;33m,\u001b[0m \u001b[0maxis\u001b[0m\u001b[1;33m)\u001b[0m\u001b[1;33m\u001b[0m\u001b[0m\n",
      "\u001b[1;31mModuleNotFoundError\u001b[0m: No module named 'adspy_shared_utilities'"
     ]
    }
   ],
   "source": [
    "'''from adspy_shared_utilities import plot_class_regions_for_classifier_subplot\n",
    "fig, subaxes = plt.subplots(3,1,figsize=(6,18))\n",
    "plot_class_regions_for_classifier_subplot(net9, X_train, y_train, X_test, y_test, title, axis)'''"
   ]
  },
  {
   "cell_type": "markdown",
   "metadata": {},
   "source": [
    "#  Best solution"
   ]
  },
  {
   "cell_type": "markdown",
   "metadata": {},
   "source": [
    "# Expanded MNIST"
   ]
  },
  {
   "cell_type": "code",
   "execution_count": 9,
   "metadata": {
    "collapsed": true
   },
   "outputs": [],
   "source": [
    "import mnist_loader\n",
    "\n",
    "#I ran the python script (expanded_mnist.py) first to get the expanded data\n",
    "#I needed to adjust the given code for load_data_wrapper and load_data (shown above)\n",
    "expanded_training_data, expanded_validation_data, expanded_test_data = load_data_wrapper2()\n",
    "expanded_training_data = list(expanded_training_data)"
   ]
  },
  {
   "cell_type": "code",
   "execution_count": 10,
   "metadata": {},
   "outputs": [
    {
     "name": "stdout",
     "output_type": "stream",
     "text": [
      "250000\n"
     ]
    }
   ],
   "source": [
    "print(len(expanded_training_data))"
   ]
  },
  {
   "cell_type": "code",
   "execution_count": 11,
   "metadata": {
    "collapsed": true
   },
   "outputs": [],
   "source": [
    "import network\n",
    "\n",
    "#creating a network object (biases and weights are randomly initialized)\n",
    "net10 = network.Network([784, 100, 10])"
   ]
  },
  {
   "cell_type": "code",
   "execution_count": 12,
   "metadata": {},
   "outputs": [
    {
     "name": "stdout",
     "output_type": "stream",
     "text": [
      "Epoch 0 : 7740 / 10000\n",
      "Epoch 1 : 7819 / 10000\n",
      "Epoch 2 : 8764 / 10000\n",
      "Epoch 3 : 8770 / 10000\n",
      "Epoch 4 : 8805 / 10000\n",
      "Epoch 5 : 8839 / 10000\n",
      "Epoch 6 : 9723 / 10000\n",
      "Epoch 7 : 9739 / 10000\n",
      "Epoch 8 : 9743 / 10000\n",
      "Epoch 9 : 9774 / 10000\n",
      "Epoch 10 : 9767 / 10000\n",
      "Epoch 11 : 9747 / 10000\n",
      "Epoch 12 : 9752 / 10000\n",
      "Epoch 13 : 9753 / 10000\n",
      "Epoch 14 : 9778 / 10000\n",
      "Epoch 15 : 9773 / 10000\n",
      "Epoch 16 : 9798 / 10000\n",
      "Epoch 17 : 9774 / 10000\n",
      "Epoch 18 : 9781 / 10000\n",
      "Epoch 19 : 9794 / 10000\n",
      "Epoch 20 : 9791 / 10000\n",
      "Epoch 21 : 9796 / 10000\n",
      "Epoch 22 : 9786 / 10000\n",
      "Epoch 23 : 9775 / 10000\n",
      "Epoch 24 : 9798 / 10000\n",
      "Epoch 25 : 9800 / 10000\n",
      "Epoch 26 : 9785 / 10000\n",
      "Epoch 27 : 9793 / 10000\n",
      "Epoch 28 : 9799 / 10000\n",
      "Epoch 29 : 9790 / 10000\n"
     ]
    }
   ],
   "source": [
    "#believe it or not these were the best hyperparameters I came up with\n",
    "epochs = 30\n",
    "mini_batch_size = 10\n",
    "eta = 3.0\n",
    "net10.SGD(expanded_training_data, epochs, mini_batch_size, eta, test_data=test_data)\n",
    "#PEAK: 9800\n",
    "#EPOCH29: 9790"
   ]
  },
  {
   "cell_type": "markdown",
   "metadata": {},
   "source": [
    "## Use a separate notebook"
   ]
  }
 ],
 "metadata": {
  "kernelspec": {
   "display_name": "Python 3",
   "language": "python",
   "name": "python3"
  },
  "language_info": {
   "codemirror_mode": {
    "name": "ipython",
    "version": 3
   },
   "file_extension": ".py",
   "mimetype": "text/x-python",
   "name": "python",
   "nbconvert_exporter": "python",
   "pygments_lexer": "ipython3",
   "version": "3.6.3"
  },
  "nav_menu": {},
  "toc": {
   "navigate_menu": true,
   "number_sections": true,
   "sideBar": true,
   "threshold": 6,
   "toc_cell": false,
   "toc_section_display": "block",
   "toc_window_display": false
  }
 },
 "nbformat": 4,
 "nbformat_minor": 1
}
